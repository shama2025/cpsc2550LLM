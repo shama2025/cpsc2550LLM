{
 "cells": [
  {
   "cell_type": "code",
   "execution_count": 8,
   "id": "07a1d0e0-1385-4ea4-868b-11d4fff83783",
   "metadata": {},
   "outputs": [],
   "source": [
    "text = open(\"tiny_stories.txt\").read()"
   ]
  },
  {
   "cell_type": "code",
   "execution_count": 10,
   "id": "e3dfda22-6135-421e-89ad-69bccceaf182",
   "metadata": {},
   "outputs": [
    {
     "data": {
      "text/plain": [
       "'and'"
      ]
     },
     "execution_count": 10,
     "metadata": {},
     "output_type": "execute_result"
    }
   ],
   "source": [
    "next_word = {\n",
    "    \"The\" : \"boy\",\n",
    "}\n",
    "\n",
    "words = text.split()\n",
    "\n",
    "for current, next in zip(words, words[1:]): #Gets the range of values and zip combinens the two values\n",
    "  next_word[current] = next\n",
    "\n",
    "def generate(prompt):\n",
    "  last_word = prompt.split()[-1]\n",
    "  return next_word[last_word]\n",
    "\n",
    "generate(\"There was a tree\")"
   ]
  },
  {
   "cell_type": "code",
   "execution_count": null,
   "id": "befb820b-4ec6-4e64-a4c1-c6f82823767a",
   "metadata": {},
   "outputs": [],
   "source": []
  }
 ],
 "metadata": {
  "kernelspec": {
   "display_name": "Python 3 (ipykernel)",
   "language": "python",
   "name": "python3"
  },
  "language_info": {
   "codemirror_mode": {
    "name": "ipython",
    "version": 3
   },
   "file_extension": ".py",
   "mimetype": "text/x-python",
   "name": "python",
   "nbconvert_exporter": "python",
   "pygments_lexer": "ipython3",
   "version": "3.11.7"
  }
 },
 "nbformat": 4,
 "nbformat_minor": 5
}
