{
 "cells": [
  {
   "cell_type": "code",
   "execution_count": 3,
   "id": "27025125-a38a-4e0c-9505-800125f39e1c",
   "metadata": {},
   "outputs": [],
   "source": [
    "from ctransformers import AutoModelForCausalLM"
   ]
  },
  {
   "cell_type": "code",
   "execution_count": 5,
   "id": "1a417659-51f5-4f91-b591-3cb1245e921e",
   "metadata": {},
   "outputs": [
    {
     "name": "stderr",
     "output_type": "stream",
     "text": [
      "Fetching 1 files: 100%|██████████████████████████████████████████████████████████████████████████| 1/1 [00:00<?, ?it/s]\n",
      "Fetching 1 files: 100%|██████████████████████████████████████████████████████████████████████████| 1/1 [00:00<?, ?it/s]\n"
     ]
    }
   ],
   "source": [
    "llm = AutoModelForCausalLM.from_pretrained(\"marella/gpt-2-ggml\", model_type=\"gpt2\")"
   ]
  },
  {
   "cell_type": "code",
   "execution_count": 6,
   "id": "ba214a49-d9ff-42dd-be20-d557c2dfc5f8",
   "metadata": {},
   "outputs": [
    {
     "name": "stdout",
     "output_type": "stream",
     "text": [
      ", b = 3.3 * d (p1 − p2), c = 0.75 + 1.8* 2-D v r . In addition to the previous model in Figure S5 and Table 6 , I obtained four covariate changes at this step between linearization rates [0=F; 50<40:H−24) by including time variables within three dimensional polynomial analysis for (B); with β being represented as 2–6 kN p(η m + 0.025)-c s or c 1/γ in order to quantify variance when scaling at n values less than two samples [F = −0·06, P < .001].\n",
      " The first covariate change was a significant increase in the time of onset (p2) and duration (P<10−4), with β being represented as 2–6 kN p(η m + 0.025)-c s or c 1/γ [F = −0·04, P < .001]. The second covariate change was a significant increase in the time of onset at d and t (p2) but not between h and n; β being represented as 2–6 kN p(η m + 0.025)-"
     ]
    }
   ],
   "source": [
    "for text in llm(\" \", stream=True):\n",
    "    print(text, end=\"\", flush=True)"
   ]
  },
  {
   "cell_type": "code",
   "execution_count": null,
   "id": "79bf7245-8627-4137-a657-f6a801c77ec9",
   "metadata": {},
   "outputs": [],
   "source": []
  }
 ],
 "metadata": {
  "kernelspec": {
   "display_name": "Python 3 (ipykernel)",
   "language": "python",
   "name": "python3"
  },
  "language_info": {
   "codemirror_mode": {
    "name": "ipython",
    "version": 3
   },
   "file_extension": ".py",
   "mimetype": "text/x-python",
   "name": "python",
   "nbconvert_exporter": "python",
   "pygments_lexer": "ipython3",
   "version": "3.11.7"
  }
 },
 "nbformat": 4,
 "nbformat_minor": 5
}
