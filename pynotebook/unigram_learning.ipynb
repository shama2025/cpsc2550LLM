{
 "cells": [
  {
   "cell_type": "code",
   "execution_count": 9,
   "id": "07a1d0e0-1385-4ea4-868b-11d4fff83783",
   "metadata": {},
   "outputs": [],
   "source": [
    "text = open(\"tiny_stories.txt\").read()"
   ]
  },
  {
   "cell_type": "code",
   "execution_count": 21,
   "id": "e3dfda22-6135-421e-89ad-69bccceaf182",
   "metadata": {},
   "outputs": [
    {
     "ename": "AttributeError",
     "evalue": "'str' object has no attribute 'append'",
     "output_type": "error",
     "traceback": [
      "\u001b[1;31m---------------------------------------------------------------------------\u001b[0m",
      "\u001b[1;31mAttributeError\u001b[0m                            Traceback (most recent call last)",
      "Cell \u001b[1;32mIn[21], line 9\u001b[0m\n\u001b[0;32m      7\u001b[0m \u001b[38;5;28;01mfor\u001b[39;00m current, \u001b[38;5;28mnext\u001b[39m \u001b[38;5;129;01min\u001b[39;00m \u001b[38;5;28mzip\u001b[39m(words, words[\u001b[38;5;241m1\u001b[39m:]): \u001b[38;5;66;03m#Gets the range of values and zip combinens the two values\u001b[39;00m\n\u001b[0;32m      8\u001b[0m     \u001b[38;5;28;01mif\u001b[39;00m current \u001b[38;5;129;01min\u001b[39;00m next_word:\n\u001b[1;32m----> 9\u001b[0m         \u001b[43mnext_word\u001b[49m\u001b[43m[\u001b[49m\u001b[43mcurrent\u001b[49m\u001b[43m]\u001b[49m\u001b[38;5;241;43m.\u001b[39;49m\u001b[43mappend\u001b[49m(\u001b[38;5;28mnext\u001b[39m)\n\u001b[0;32m     10\u001b[0m     \u001b[38;5;28;01melse\u001b[39;00m:\n\u001b[0;32m     11\u001b[0m         next_word[current] \u001b[38;5;241m=\u001b[39m [\u001b[38;5;28mnext\u001b[39m]\n",
      "\u001b[1;31mAttributeError\u001b[0m: 'str' object has no attribute 'append'"
     ]
    }
   ],
   "source": [
    "next_word = {\n",
    "    \"The\" : \"boy\",\n",
    "}\n",
    "\n",
    "words = text.split()\n",
    "\n",
    "for current, next in zip(words, words[1:]): #Gets the range of values and zip combinens the two values\n",
    "    if current in next_word:\n",
    "        next_word[current].append(next)\n",
    "    else:\n",
    "        next_word[current] = [next]\n",
    "        \n",
    "next_word\n"
   ]
  },
  {
   "cell_type": "code",
   "execution_count": 22,
   "id": "7022a645-e59e-455a-801b-f98324343c8e",
   "metadata": {},
   "outputs": [],
   "source": [
    "from random import choice \n",
    "def generate(prompt, num_words=1):\n",
    "  generation = prompt.strip() #.strip gets rid of whtiespace at the start and end of the string\n",
    "  for i in range(0, num_words):\n",
    "      last_word= generation.split()[-1]\n",
    "      try:\n",
    "          generation += \" \" + choice(next_word[last_word][-1])\n",
    "          return generation\n",
    "      except KeyError:\n",
    "          generation += \"the\"\n",
    "\n",
    "generate(\"Marcus\", num_words=10)"
   ]
  },
  {
   "cell_type": "code",
   "execution_count": null,
   "id": "25cfd678-57d2-4f19-bc53-c7a84a31ea12",
   "metadata": {},
   "outputs": [],
   "source": []
  }
 ],
 "metadata": {
  "kernelspec": {
   "display_name": "Python 3 (ipykernel)",
   "language": "python",
   "name": "python3"
  },
  "language_info": {
   "codemirror_mode": {
    "name": "ipython",
    "version": 3
   },
   "file_extension": ".py",
   "mimetype": "text/x-python",
   "name": "python",
   "nbconvert_exporter": "python",
   "pygments_lexer": "ipython3",
   "version": "3.11.7"
  }
 },
 "nbformat": 4,
 "nbformat_minor": 5
}
