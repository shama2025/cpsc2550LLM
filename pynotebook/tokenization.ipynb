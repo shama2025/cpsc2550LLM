{
 "cells": [
  {
   "cell_type": "code",
   "execution_count": 8,
   "id": "f15d0374-4ef1-4d72-b1d3-f76f288e1ebd",
   "metadata": {},
   "outputs": [],
   "source": [
    "import random\n",
    "import re\n",
    "\n",
    "text = open(\"tiny_stories.txt\").read()"
   ]
  },
  {
   "cell_type": "code",
   "execution_count": 9,
   "id": "5ae8631a-7188-44c5-be98-9fd25f50889c",
   "metadata": {},
   "outputs": [],
   "source": [
    "def split_words(text):\n",
    "    return re.findall(r'\\s+\\S+', text)\n",
    "\n",
    "words = split_words(text)"
   ]
  },
  {
   "cell_type": "code",
   "execution_count": 10,
   "id": "bbbffdc7-b05c-4a3a-be9c-7eef33fbd416",
   "metadata": {},
   "outputs": [],
   "source": [
    "N = 2\n",
    "\n",
    "next_word = {}\n",
    "\n",
    "def iter_ctx(words, ctx_size):\n",
    "    \"\"\" Yields words and context\n",
    "\n",
    "    :param words: Words to iterate\n",
    "    :param ctx: Size of context for each word in number of words\"\"\"\n",
    "    \n",
    "    for i in range(ctx_size, len(words) - ctx_size):\n",
    "        yield words[i - ctx_size: i], words[i]\n",
    "\n",
    "for ctx, next in iter_ctx(words, N):\n",
    "    idx = tuple(ctx)\n",
    "    \n",
    "    if idx in next_word:\n",
    "        next_word[idx].append(next)\n",
    "    else:\n",
    "        next_word[idx] = [next]\n",
    "\n",
    "\n",
    "\n",
    "def generate(prompt, num_words=1):\n",
    "    generation = prompt\n",
    "\n",
    "    for _ in range(num_words):\n",
    "        idx = tuple(split_words(generation)[-N:])\n",
    "        last_word = random.choice(next_word[idx][:])\n",
    "        generation += last_word\n",
    "        \n",
    "    return generation"
   ]
  },
  {
   "cell_type": "code",
   "execution_count": 12,
   "id": "3a379dc3-4e2b-4811-aee9-df203ef9e178",
   "metadata": {},
   "outputs": [
    {
     "name": "stdout",
     "output_type": "stream",
     "text": [
      "\n",
      "\n",
      "\n",
      "\n",
      "Once upon a time there lived a lively young reindeer listened carefully and promised to stay away from the ground was so happy, he forgot all about being scared.\n",
      "\n",
      "Mum smiled when she peeked behind the bush, she found a big fish jump out of her house.\n",
      "\n",
      "Suddenly, her friend Mary came over and asked if he had a very important job. Dependable would take a look.\n",
      "\n",
      "Suddenly, a big, pink gum on the ground. It looked amazing. Tim picked it up. \n",
      "\n",
      "Tom looked around and around until they were so happy and full. From that day on, they had even more fun at the lake. \n",
      "\n",
      "The boy took the chain and were happy friends again.\n",
      "\n",
      "\n",
      "\n",
      "One sunny day, a girl named Sue. Sue had a wonderful realization.\n",
      "\n",
      "\n",
      "\n",
      "Once upon a time, in a sack. The little boy named Tim. Tim was happy, and the bird and the two of them all!\n",
      "\n",
      "\n",
      "\n",
      "Once upon a time, there lived a little bird. The bird flew away and found a big box. The box was full. Tim felt proud that he seemed to float rather than run! One day, she asked a rabbit hopping along the street and feel the wind in his hands. The weight grew\n"
     ]
    }
   ],
   "source": [
    "print(generate(\"\\n\\n\\n\\nOnce upon a time there\", num_words = 200))"
   ]
  },
  {
   "cell_type": "code",
   "execution_count": null,
   "id": "90156f05-1987-4829-ba22-0a291126cc54",
   "metadata": {},
   "outputs": [],
   "source": []
  },
  {
   "cell_type": "code",
   "execution_count": null,
   "id": "00168a5c-94d3-4a1e-b09b-8ced4a950154",
   "metadata": {},
   "outputs": [],
   "source": []
  }
 ],
 "metadata": {
  "kernelspec": {
   "display_name": "Python 3 (ipykernel)",
   "language": "python",
   "name": "python3"
  },
  "language_info": {
   "codemirror_mode": {
    "name": "ipython",
    "version": 3
   },
   "file_extension": ".py",
   "mimetype": "text/x-python",
   "name": "python",
   "nbconvert_exporter": "python",
   "pygments_lexer": "ipython3",
   "version": "3.11.7"
  }
 },
 "nbformat": 4,
 "nbformat_minor": 5
}
