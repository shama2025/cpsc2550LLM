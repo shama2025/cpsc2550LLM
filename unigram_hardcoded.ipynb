{
 "cells": [
  {
   "cell_type": "code",
   "execution_count": 1,
   "id": "318a6648-1778-4572-9571-d58fc2605ff2",
   "metadata": {},
   "outputs": [
    {
     "name": "stdout",
     "output_type": "stream",
     "text": [
      "boy\n"
     ]
    }
   ],
   "source": [
    "\"The boy walked the dog\"\n",
    "\n",
    "def generate(prompt):\n",
    "    last_word = prompt.split()[-1]\n",
    "\n",
    "    if last_word == \"The\":\n",
    "        return \"boy\"\n",
    "    elif last_word == \"boy\":\n",
    "        return \"walked\"\n",
    "    elif last_word == \"walked\":\n",
    "        return \"in\"\n",
    "    elif last_word == \"the\":\n",
    "        return \"dog\"\n",
    "print(generate(\"The\"))"
   ]
  },
  {
   "cell_type": "code",
   "execution_count": null,
   "id": "591f41b5-64a4-4be3-b65e-0d5330122e27",
   "metadata": {},
   "outputs": [],
   "source": []
  }
 ],
 "metadata": {
  "kernelspec": {
   "display_name": "Python 3 (ipykernel)",
   "language": "python",
   "name": "python3"
  },
  "language_info": {
   "codemirror_mode": {
    "name": "ipython",
    "version": 3
   },
   "file_extension": ".py",
   "mimetype": "text/x-python",
   "name": "python",
   "nbconvert_exporter": "python",
   "pygments_lexer": "ipython3",
   "version": "3.11.7"
  }
 },
 "nbformat": 4,
 "nbformat_minor": 5
}
