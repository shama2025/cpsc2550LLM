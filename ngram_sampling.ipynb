{
 "cells": [
  {
   "cell_type": "code",
   "execution_count": 1,
   "id": "f61fabf6-559e-489a-8e24-f0b56cc79c09",
   "metadata": {},
   "outputs": [],
   "source": [
    "text = open(\"tiny_stories.txt\").read()"
   ]
  },
  {
   "cell_type": "code",
   "execution_count": 13,
   "id": "d57eb491-f766-4e25-a661-b2cff9784a6a",
   "metadata": {},
   "outputs": [],
   "source": [
    "def iter_ngrams(text, n):\n",
    "    words = text.split()\n",
    "    for i in range(n, len(words)-n): #Returns a list of first 5 words and then the next word\n",
    "        yield tuple(words[i-n:i]), words[i] #using a tuple allows to make the list hashable\n",
    "        "
   ]
  },
  {
   "cell_type": "code",
   "execution_count": 14,
   "id": "77f8b608-7fc1-4c4f-902b-0c030d71727b",
   "metadata": {},
   "outputs": [],
   "source": [
    "next_word ={}\n",
    "ngram_size = 1 \n",
    "for current, next in iter_ngrams(text,ngram_size): #Gets the range of values and zip combinens the two values\n",
    "    if current in next_word:\n",
    "        next_word[current].append(next)\n",
    "    else:\n",
    "        next_word[current] = [next]"
   ]
  },
  {
   "cell_type": "code",
   "execution_count": 20,
   "id": "07113bf0-7e65-499a-8516-2e8c586bd4bb",
   "metadata": {},
   "outputs": [
    {
     "name": "stdout",
     "output_type": "stream",
     "text": [
      "Error:  ('d', 'a', 'y')\n",
      "Error:  ('d', 'a', 'y')\n",
      "Error:  ('d', 'a', 'y')\n",
      "Error:  ('d', 'a', 'y')\n",
      "Error:  ('d', 'a', 'y')\n",
      "Error:  ('d', 'a', 'y')\n",
      "Error:  ('d', 'a', 'y')\n",
      "Error:  ('d', 'a', 'y')\n",
      "Error:  ('d', 'a', 'y')\n",
      "Error:  ('d', 'a', 'y')\n",
      "None\n"
     ]
    }
   ],
   "source": [
    "from random import choice \n",
    "def generate(prompt, num_words=1):\n",
    "  generation = prompt.strip() #.strip gets rid of whtiespace at the start and end of the string\n",
    "  for i in range(0, num_words):\n",
    "      last_ngram= tuple(generation.split()[-ngram_size])\n",
    "      try:\n",
    "          generation += \" \" + choice(next_word[last_ngram])\n",
    "          return generation\n",
    "      except Exception as e:\n",
    "          print(\"Error: \", e) \n",
    "\n",
    "print(generate(\"One day\", num_words=10))"
   ]
  },
  {
   "cell_type": "code",
   "execution_count": null,
   "id": "3beec134-0a4d-4249-8e21-5582aec205ec",
   "metadata": {},
   "outputs": [],
   "source": []
  },
  {
   "cell_type": "code",
   "execution_count": null,
   "id": "ac823b57-dc32-4dd3-97af-3dc3e2b2911d",
   "metadata": {},
   "outputs": [],
   "source": []
  }
 ],
 "metadata": {
  "kernelspec": {
   "display_name": "Python 3 (ipykernel)",
   "language": "python",
   "name": "python3"
  },
  "language_info": {
   "codemirror_mode": {
    "name": "ipython",
    "version": 3
   },
   "file_extension": ".py",
   "mimetype": "text/x-python",
   "name": "python",
   "nbconvert_exporter": "python",
   "pygments_lexer": "ipython3",
   "version": "3.11.7"
  }
 },
 "nbformat": 4,
 "nbformat_minor": 5
}
